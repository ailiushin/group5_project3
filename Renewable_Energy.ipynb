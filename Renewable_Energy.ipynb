{
 "cells": [
  {
   "cell_type": "code",
   "execution_count": null,
   "metadata": {},
   "outputs": [],
   "source": [
    "# Dependencies and Setup\n",
    "import pandas as pd\n",
    "import numpy as np\n",
    "import time\n",
    "\n",
    "from sqlalchemy import create_engine"
   ]
  },
  {
   "cell_type": "markdown",
   "metadata": {},
   "source": [
    "## Energy potential: Bhumi (read pdf and figure out terms) & Ryan Cheng (Cleaning the data) US_Renewable_Energy_Technical_Potential"
   ]
  },
  {
   "cell_type": "code",
   "execution_count": null,
   "metadata": {},
   "outputs": [],
   "source": [
    "# opening the file and creating a df\n",
    "potential_energy_path = 'Resources/Raw Data/US_Renewable_Energy_Technical_Potential.csv'\n",
    "potential_df = pd.read_csv(potential_energy_path)"
   ]
  },
  {
   "cell_type": "code",
   "execution_count": null,
   "metadata": {},
   "outputs": [],
   "source": [
    "# dropping the unnessecary columns of the df\n",
    "potential_df = potential_df.drop({'urbanUtilityScalePV_GW', 'urbanUtilityScalePV_km2', \n",
    "                                'ruralUtilityScalePV_GW', 'ruralUtilityScalePV_km2', 'rooftopPV_GW', \n",
    "                                'CSP_GW', 'CSP_km2', 'onshoreWind_GW', 'onshoreWind_km2', 'offshoreWind_GW', \n",
    "                                'offshoreWind_km2', 'biopowerSolid_GW', 'biopowerSolid_BDT', \n",
    "                                'biopowerGaseous_GW', 'biopowerGaseous_Tonnes-CH4', \n",
    "                                'geothermalHydrothermal_GW', 'EGSGeothermal_GW', 'hydropower_GW', \n",
    "                                'hydropower_countOfSites'}, axis = 1)\n",
    "# naming the 1st column as it was not named before\n",
    "potential_df.rename(columns = {'Unnamed: 0':'state'}, inplace=True)\n",
    "potential_df1 = potential_df.fillna(0)"
   ]
  },
  {
   "cell_type": "code",
   "execution_count": null,
   "metadata": {},
   "outputs": [],
   "source": [
    "# creating new columns for each type of energy (solar, wind, bio, geothermal, hydro) by summing the\n",
    "# respective data\n",
    "solar_list = ['urbanUtilityScalePV_GWh', 'ruralUtilityScalePV_GWh', 'rooftopPV_GWh', \n",
    "                                    'CSP_GWh']\n",
    "potential_df1['solar_potential_gwh'] = potential_df1[solar_list].sum(axis=1)\n",
    "\n",
    "wind_list = ['onshoreWind_GWh', 'offshoreWind_GWh']\n",
    "potential_df1['wind_potential_gwh'] = potential_df1[wind_list].sum(axis=1)\n",
    "\n",
    "bio_list = ['biopowerSolid_GWh', 'biopowerGaseous_GWh']\n",
    "potential_df1['biopower_potential_gwh'] = potential_df1[bio_list].sum(axis=1)\n",
    "\n",
    "geo_list = ['geothermalHydrothermal_GWh', 'EGSGeothermal_GWh']\n",
    "potential_df1['geothermal_potential_gwh'] = potential_df1[geo_list].sum(axis=1)\n",
    "\n",
    "potential_df1['hydropower_potential_gwh'] = potential_df1['hydropower_GWh']\n",
    "\n",
    "# select columns\n",
    "potential_df1 = potential_df1[['state','solar_potential_gwh','wind_potential_gwh','biopower_potential_gwh','geothermal_potential_gwh','hydropower_potential_gwh']]\n",
    "\n",
    "# # Save the dataframe as csv\n",
    "# potential_df1.to_csv(\"Resources/Clean Data/US_Renewable_Energy_Technical_Potential_Formated.csv\",index=False)\n"
   ]
  },
  {
   "cell_type": "markdown",
   "metadata": {},
   "source": [
    "## Webscraping"
   ]
  },
  {
   "cell_type": "code",
   "execution_count": null,
   "metadata": {},
   "outputs": [],
   "source": [
    "# proving url address\n",
    "url  = \"https://en.wikipedia.org/wiki/List_of_U.S._states_and_territories_by_population#cite_note-5\"\n",
    "\n",
    "# sleep for 1 second before reading url\n",
    "time.sleep(1)\n",
    "\n",
    "# scrape wiki url\n",
    "wiki_data = pd.read_html(url)\n",
    "# type(wiki_data)\n",
    "\n",
    "# select the first table from the list of tables and convert to DataFrame\n",
    "population_table = pd.DataFrame(wiki_data[0])\n",
    "\n",
    "# dropping first level of multi index column headers\n",
    "population_2021 = population_table.droplevel(0, axis=1) \n",
    "\n",
    "# selecting state and population as of 2021 columns\n",
    "population_2021 = population_2021 [['State or territory','July 1, 2021']]\n",
    "\n",
    "# rename columns \n",
    "population_2021 = population_2021.rename(columns=({'State or territory':'state','July 1, 2021':'population'}))\n",
    "\n",
    "# removing extra rows\n",
    "population_2021 = population_2021[0:52]\n",
    "\n",
    "# remving territories\n",
    "population_2021 = population_2021.drop(labels=[29], axis=0)\n",
    "\n",
    "# # Save the dataframe as csv\n",
    "# population_2021.to_csv(\"Resources/Clean Data/US_States_Population_Formated.csv\",index=False)\n"
   ]
  },
  {
   "cell_type": "markdown",
   "metadata": {},
   "source": [
    "## Energy_consumption: Rafael (TBD) & Ryan Callaghan (TBD) US_Total_Energy_Consumption"
   ]
  },
  {
   "cell_type": "code",
   "execution_count": null,
   "metadata": {},
   "outputs": [],
   "source": [
    "# opening the file and creating a df\n",
    "energy_consumption_path = 'Resources/Raw Data/US_Total_Energy_Consumption.csv'\n",
    "energy_consumption_df = pd.read_csv(energy_consumption_path)"
   ]
  },
  {
   "cell_type": "code",
   "execution_count": null,
   "metadata": {},
   "outputs": [],
   "source": [
    "# Change state abb. to names\n",
    "\n",
    "dict = {\n",
    "    \"AK\": \"Alaska\", \"AL\":\"Alabama\", \"AR\": \"Arkansas\", \"AZ\": \"Arizona\", \"CA\": \"California\",\"CO\": \"Colorado\", \"CT\": \"Connecticut\",\n",
    "\"DC\": \"District of Columbia\",\"DE\":\"Delaware\",\"FL\":\"Florida\",\"GA\": \"Georgia\",\n",
    "\"HI\":\"Hawaii\",\"IA\": \"Iowa\",\"ID\":\"Idaho\",\"IL\": \"Illinois\",\"IN\":\"Indiana\",\n",
    "\"KS\": \"Kansas\",\"KY\" :\"Kentucky\",\"LA\": \"Louisiana\",\"MA\":\"Massachusetts\",\"MD\":\"Maryland\",\n",
    "\"ME\" :\"Maine\",\"MI\":\"Michigan\",\"MN\":\"Minnesota\",\"MO\": \"Missouri\",\"MS\" : \"Mississippi\",\"MT\":\"Montana\",\n",
    "\"NC\": \"North Carolina\",\"ND\": \"North Dakota\",\"NE\":\"Nebraska\",\"NH\":\"New Hampshire\",\"NJ\":\"New Jersey\",\"NM\": \"New Mexico\",\n",
    "\"NV\": \"Nevada\",\"NY\": \"New York\",\"OH\": \"Ohio\",\"OK\": \"Oklahoma\",\"OR\": \"Oregon\",\"PA\":\"Pennsylvania\",\n",
    "\"RI\":\"Rhode Island\",\"SC\": \"South Carolina\",\"SD\":\"South Dakota\",\"TN\": \"Tennessee\",\"TX\": \"Texas\",\n",
    "\"UT\": \"Utah\",\"VA\": \"Virginia\",\"VT\":\"Vermont\",\"WA\":\"Washington\",\"WI\":\"Wisconsin\",\n",
    "\"WV\": \"West Virginia\",\"WY\":\"Wyoming\"\n",
    "}\n",
    "\n",
    "# mapping the state names\n",
    "energy_consumption_df[\"State\"] = energy_consumption_df[\"State\"].map(dict)\n",
    "\n",
    "#selecting \n",
    "energy_consumption_df = energy_consumption_df[['State','Total Energy Consumed per Capita, million Btu']]\n",
    "\n",
    "# renaming columns\n",
    "energy_consumption_df.rename(columns = {'State':'state',\n",
    "                                        'Total Energy Consumed per Capita, million Btu':'total_energy_consumed'}, \n",
    "                                         inplace=True)"
   ]
  },
  {
   "cell_type": "code",
   "execution_count": null,
   "metadata": {},
   "outputs": [],
   "source": [
    "#joining populatioin table and energy consumption table\n",
    "energy_consumption_df = energy_consumption_df.merge(population_2021, on='state',how=\"inner\")\n",
    "\n",
    "#calculating total consumption and converting BTU's to Gigawatt hours\n",
    "consumption_gwh = round((energy_consumption_df['total_energy_consumed'] *  0.00000000029 * 1000000  \\\n",
    "                                        * energy_consumption_df['population']))\n",
    "\n",
    "#adding calculated values back to the dataframe\n",
    "energy_consumption_df['total_energy_consumed_gwh'] = consumption_gwh\n",
    "energy_consumption_df = energy_consumption_df[['state','total_energy_consumed_gwh']]\n",
    "\n",
    "# # Save the dataframe as csv\n",
    "# energy_consumption_df.to_csv(\"Resources/Clean Data/US_Total_Energy_Consumption_Formated.csv\",index=False)\n"
   ]
  },
  {
   "cell_type": "code",
   "execution_count": null,
   "metadata": {},
   "outputs": [],
   "source": [
    "# creating a master table for sql ingestion, plus merging tables\n",
    "\n",
    "potential_energy_total = potential_df1.set_index('state')\n",
    "potential_energy_total = pd.DataFrame(potential_energy_total.sum(axis=1))\n",
    "potential_energy_total = potential_energy_total.rename(columns={0:'total_energy_potential_gwh'})\n",
    "\n",
    "#merging a set of tables calculated above\n",
    "master_energy = energy_consumption_df.merge(potential_energy_total, on='state')\n",
    "\n",
    "#calculating energy excess capacity\n",
    "energy_excess_capacity = master_energy['total_energy_potential_gwh']-master_energy['total_energy_consumed_gwh']\n",
    "\n",
    "# adding calculation back to dataframe\n",
    "master_energy['energy_excess_capacity'] = energy_excess_capacity\n",
    "\n",
    "# merging the final table with population table and energy types\n",
    "master_energy = ((master_energy.merge(potential_df1,on='state')).merge(population_2021,on='state'))\n",
    "\n",
    "# # Save the dataframe as csv\n",
    "# master_energy.to_csv(\"Resources/Clean Data/US_Master_Energy.csv\",index=False)"
   ]
  },
  {
   "cell_type": "code",
   "execution_count": null,
   "metadata": {},
   "outputs": [],
   "source": [
    "# create database connection\n",
    "connection_string = \"postgres:postgres@localhost:5432/energy_db\"\n",
    "engine = create_engine(f'postgresql://{connection_string}')\n",
    "\n",
    "# Confirm tables\n",
    "engine.table_names()\n",
    "\n",
    "#Loading dataframe into sql database table\n",
    "master_energy.to_sql(name='energy', con=engine, if_exists='append', index=False)"
   ]
  }
 ],
 "metadata": {
  "kernelspec": {
   "display_name": "Python [conda env:PythonData38] *",
   "language": "python",
   "name": "conda-env-PythonData38-py"
  },
  "language_info": {
   "codemirror_mode": {
    "name": "ipython",
    "version": 3
   },
   "file_extension": ".py",
   "mimetype": "text/x-python",
   "name": "python",
   "nbconvert_exporter": "python",
   "pygments_lexer": "ipython3",
   "version": "3.8.12"
  }
 },
 "nbformat": 4,
 "nbformat_minor": 4
}
