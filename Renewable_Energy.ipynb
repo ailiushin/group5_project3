{
 "cells": [
  {
   "cell_type": "code",
   "execution_count": null,
   "metadata": {},
   "outputs": [],
   "source": [
    "# Dependencies and Setup\n",
    "import pandas as pd\n",
    "import numpy as np\n",
    "import time\n",
    "\n",
    "from sqlalchemy import create_engine"
   ]
  },
  {
   "cell_type": "markdown",
   "metadata": {},
   "source": [
    "## Energy potential: Bhumi (read pdf and figure out terms) & Ryan Cheng (Cleaning the data) US_Renewable_Energy_Technical_Potential"
   ]
  },
  {
   "cell_type": "code",
   "execution_count": null,
   "metadata": {},
   "outputs": [],
   "source": [
    "# opening the file and creating a df\n",
    "potential_energy_path = 'Resources/Raw Data/US_Renewable_Energy_Technical_Potential.csv'\n",
    "potential_df = pd.read_csv(potential_energy_path)"
   ]
  },
  {
   "cell_type": "code",
   "execution_count": null,
   "metadata": {},
   "outputs": [],
   "source": [
    "# dropping the unnessecary columns of the df\n",
    "potential_df = potential_df.drop({'urbanUtilityScalePV_GW', 'urbanUtilityScalePV_km2', \n",
    "                                'ruralUtilityScalePV_GW', 'ruralUtilityScalePV_km2', 'rooftopPV_GW', \n",
    "                                'CSP_GW', 'CSP_km2', 'onshoreWind_GW', 'onshoreWind_km2', 'offshoreWind_GW', \n",
    "                                'offshoreWind_km2', 'biopowerSolid_GW', 'biopowerSolid_BDT', \n",
    "                                'biopowerGaseous_GW', 'biopowerGaseous_Tonnes-CH4', \n",
    "                                'geothermalHydrothermal_GW', 'EGSGeothermal_GW', 'hydropower_GW', \n",
    "                                'hydropower_countOfSites'}, axis = 1)\n",
    "# naming the 1st column as it was not named before\n",
    "potential_df.rename(columns = {'Unnamed: 0':'States'}, inplace=True)\n",
    "potential_df1 = potential_df.fillna(0)\n",
    "potential_df1.head()"
   ]
  },
  {
   "cell_type": "code",
   "execution_count": null,
   "metadata": {},
   "outputs": [],
   "source": [
    "# creating new columns for each type of energy (solar, wind, bio, geothermal, hydro) by summing the\n",
    "# respective data\n",
    "solar_list = ['urbanUtilityScalePV_GWh', 'ruralUtilityScalePV_GWh', 'rooftopPV_GWh', \n",
    "                                    'CSP_GWh']\n",
    "potential_df1['Solar Energy Total Potential (GWh)'] = potential_df1[solar_list].sum(axis=1)\n",
    "\n",
    "wind_list = ['onshoreWind_GWh', 'offshoreWind_GWh']\n",
    "potential_df1['Wind Energy Total Potential (GWh)'] = potential_df1[wind_list].sum(axis=1)\n",
    "\n",
    "bio_list = ['biopowerSolid_GWh', 'biopowerGaseous_GWh']\n",
    "potential_df1['Bio Energy Total Potential (GWh)'] = potential_df1[bio_list].sum(axis=1)\n",
    "\n",
    "geo_list = ['geothermalHydrothermal_GWh', 'EGSGeothermal_GWh']\n",
    "potential_df1['Geothermal Energy Total Potential (GWh)'] = potential_df1[geo_list].sum(axis=1)\n",
    "\n",
    "potential_df1['Hydropower Energy Total Potential (GWh)'] = potential_df1['hydropower_GWh']\n",
    "potential_df1.head()"
   ]
  },
  {
   "cell_type": "code",
   "execution_count": null,
   "metadata": {},
   "outputs": [],
   "source": []
  },
  {
   "cell_type": "markdown",
   "metadata": {},
   "source": [
    "## Energy_consumption: Rafael (TBD) & Ryan Callaghan (TBD) US_Total_Energy_Consumption"
   ]
  },
  {
   "cell_type": "code",
   "execution_count": null,
   "metadata": {},
   "outputs": [],
   "source": [
    "# opening the file and creating a df\n",
    "energy_consumption_path = 'Resources/Raw Data/US_Total_Energy_Consumption.csv'\n",
    "energy_consumption_df = pd.read_csv(energy_consumption_path)\n",
    "energy_consumption_df.head()"
   ]
  },
  {
   "cell_type": "code",
   "execution_count": null,
   "metadata": {},
   "outputs": [],
   "source": [
    "# Change state abb. to names\n",
    "# Artem to take a look\n",
    "\n",
    "dict = {\n",
    "    \"AK\": \"Alaska\", \"AL\":\"Alabama\", \"AR\": \"Arkansas\", \"AZ\": \"Arizona\", \"CA\": \"California\",\"CO\": \"Colorado\", \"CT\": \"Connecticut\",\n",
    "\"DC\": \"District of Columbia\",\"DE\":\"Delaware\",\"FL\":\"Florida\",\"GA\": \"Georgia\",\n",
    "\"HI\":\"Hawaii\",\"IA\": \"Iowa\",\"ID\":\"Idaho\",\"IL\": \"Illinois\",\"IN\":\"Indiana\",\n",
    "\"KS\": \"Kansas\",\"KY\" :\"Kentucky\",\"LA\": \"Louisiana\",\"MA\":\"Massachusetts\",\"MD\":\"Maryland\",\n",
    "\"ME\" :\"Maine\",\"MI\":\"Michigan\",\"MN\":\"Minnesota\",\"MO\": \"Missouri\",\"MS\" : \"Mississippi\",\"MT\":\"Montana\",\n",
    "\"NC\": \"North Carolina\",\"ND\": \"North Dakota\",\"NE\":\"Nebraska\",\"NH\":\"New Hampshire\",\"NJ\":\"New Jersey\",\"NM\": \"New Mexico\",\n",
    "\"NV\": \"Nevada\",\"NY\": \"New York\",\"OH\": \"Ohio\",\"OK\": \"Oklahoma\",\"OR\": \"Oregon\",\"PA\":\"Pennsylvania\",\n",
    "\"RI\":\"Rhode Island\",\"SC\": \"South Carolina\",\"SD\":\"South Dakota\",\"TN\": \"Tennessee\",\"TX\": \"Texas\",\n",
    "\"UT\": \"Utah\",\"VA\": \"Virginia\",\"VT\":\"Vermont\",\"WA\":\"Washington\",\"WI\":\"Wisconsin\",\n",
    "\"WV\": \"West Virginia\",\"WY\":\"Wyoming\"\n",
    "}\n",
    "energy_consumption_df[\"State\"] = energy_consumption_df[\"State\"].map(dict)\n",
    "energy_consumption_df.head()"
   ]
  },
  {
   "cell_type": "code",
   "execution_count": null,
   "metadata": {},
   "outputs": [],
   "source": [
    "# Save the dataframe as csv\n",
    "energy_consumption_df.to_csv(\"Resources/Raw Data/US_Total_Energy_Consumption.csv\")"
   ]
  },
  {
   "cell_type": "code",
   "execution_count": null,
   "metadata": {},
   "outputs": [],
   "source": []
  },
  {
   "cell_type": "markdown",
   "metadata": {},
   "source": [
    "## Artem - Webscraping & lats/Longs"
   ]
  },
  {
   "cell_type": "code",
   "execution_count": null,
   "metadata": {},
   "outputs": [],
   "source": [
    "# proving url address\n",
    "url  = \"https://en.wikipedia.org/wiki/List_of_U.S._states_and_territories_by_population#cite_note-5\"\n",
    "\n",
    "# sleep for 1 second before reading url\n",
    "time.sleep(1)\n",
    "\n",
    "# scrape wiki url\n",
    "wiki_data = pd.read_html(url)\n",
    "# type(wiki_data)\n",
    "\n",
    "# select the first table from the list of tables and convert to DataFrame\n",
    "population_table = pd.DataFrame(wiki_data[0])\n",
    "\n",
    "# dropping first level of multi index column headers\n",
    "population_2021 = population_table.droplevel(0, axis=1) \n",
    "\n",
    "# selecting state and population as of 2021 columns\n",
    "population_2021 = population_2021 [['State or territory','July 1, 2021']]\n",
    "\n",
    "# rename columns \n",
    "population_2021 = population_2021.rename(columns=({'State or territory':'State','July 1, 2021':'Population'}))\n",
    "\n",
    "# removing extra rows\n",
    "population_2021 = population_2021[0:52]\n",
    "\n",
    "# remving territories\n",
    "population_2021 = population_2021.drop(labels=[29,49], axis=0)\n",
    "population_2021.head()\n",
    "\n"
   ]
  },
  {
   "cell_type": "code",
   "execution_count": null,
   "metadata": {},
   "outputs": [],
   "source": []
  },
  {
   "cell_type": "markdown",
   "metadata": {},
   "source": [
    "## TBD (most likely Ryan + someone else) - Postgress -> push to DB"
   ]
  }
 ],
 "metadata": {
  "kernelspec": {
   "display_name": "Python [conda env:PythonData38]",
   "language": "python",
   "name": "conda-env-PythonData38-py"
  },
  "language_info": {
   "codemirror_mode": {
    "name": "ipython",
    "version": 3
   },
   "file_extension": ".py",
   "mimetype": "text/x-python",
   "name": "python",
   "nbconvert_exporter": "python",
   "pygments_lexer": "ipython3",
   "version": "3.8.12"
  }
 },
 "nbformat": 4,
 "nbformat_minor": 4
}
